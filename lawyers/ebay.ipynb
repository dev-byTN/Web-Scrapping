{
 "cells": [
  {
   "cell_type": "code",
   "execution_count": 1,
   "id": "9143904d-3446-43b4-9ab0-7d13b5f15f28",
   "metadata": {},
   "outputs": [],
   "source": [
    "import pandas as pd\n",
    "from bs4 import BeautifulSoup as bs\n",
    "import requests"
   ]
  },
  {
   "cell_type": "markdown",
   "id": "311a76e2-8629-4ae1-a37e-725696e5e321",
   "metadata": {},
   "source": [
    "<h3>Une seule anonce</h3>"
   ]
  },
  {
   "cell_type": "code",
   "execution_count": 2,
   "id": "e97e54fb-5251-43fe-ae64-7541e1cdc7db",
   "metadata": {},
   "outputs": [],
   "source": [
    "def getInfo(link):\n",
    "\n",
    "    title = soup.find_all('div', class_='ux-layout-section-evo ux-layout-section--identifiantsDuProduit')\n",
    "    try :\n",
    "        if title[0].find_next('div', class_=\"ux-layout-section-evo__item\").find_next('div', class_='ux-labels-values col-6 ux-labels-values__column-last-row ux-labels-values--modèle').find_next('div', class_='ux-labels-values__values col-6').get_text():\n",
    "            model = title[0].find_next('div', class_=\"ux-layout-section-evo__item\").find_next('div', class_='ux-labels-values col-6 ux-labels-values__column-last-row ux-labels-values--modèle').find_next('div', class_='ux-labels-values__values col-6').get_text()\n",
    "        else :\n",
    "            model = 'NaN'\n",
    "    except : \n",
    "        model = 'NaN'\n",
    "\n",
    "    capacity = soup.find_all('div', class_='ux-layout-section-evo ux-layout-section--caractéristiquesPrincipalesDuProduit')\n",
    "    try :\n",
    "        if capacity[0].find_next('div', class_=\"ux-layout-section-evo__item\").find_next('div', class_='ux-labels-values col-6 ux-labels-values--capacitéDeStockage').find_next('div', class_='ux-labels-values__values col-6').get_text():\n",
    "            size = capacity[0].find_next('div', class_=\"ux-layout-section-evo__item\").find_next('div', class_='ux-labels-values col-6 ux-labels-values--capacitéDeStockage').find_next('div', class_='ux-labels-values__values col-6').get_text()\n",
    "        else :\n",
    "            size = 'NaN'\n",
    "    except : \n",
    "        size = 'NaN'\n",
    "\n",
    "    try :\n",
    "        if soup.find('div', class_=\"x-price-primary\").get_text():\n",
    "            price = soup.find('div', class_=\"x-price-primary\").get_text()\n",
    "        else :\n",
    "            price = 'NaN'\n",
    "    except :\n",
    "        price = 'NaN'\n",
    "\n",
    "    try :\n",
    "        if soup.find('span', class_='ux-icon-text__text').find_next(\"span\", class_='clipped').get_text():#cond[0].find_next('span', class_=\"x-item-condition-text\").find_next('span', class_='ux-icon-text__text').find_next('span', class_='clipped').get_text():\n",
    "            condition = soup.find('span', class_=\"ux-icon-text__text\").find_next(\"span\", class_='clipped').get_text()#cond[0].find_next('span', class_=\"x-item-condition-text\").find_next('span', class_='ux-icon-text__text').find_next('span', class_='clipped').get_text()\n",
    "        else :\n",
    "            condition = 'NaN'\n",
    "    except :\n",
    "         condition = 'NaN'\n",
    "\n",
    "    try :\n",
    "        if soup.find('div',class_='ux-labels-values__values col-9').find_next('span',class_=\"ux-textspans ux-textspans--SECONDARY\").get_text():\n",
    "            location = soup.find('div',class_='ux-labels-values__values col-9').find_next('span',class_=\"ux-textspans ux-textspans--SECONDARY\").get_text()\n",
    "        else :\n",
    "            location = 'NaN'\n",
    "    except :\n",
    "        location = 'NaN'\n",
    "\n",
    "    userInfo = soup.find_all('div', class_=\"x-sellercard-atf__info__about-seller\")\n",
    "    try :\n",
    "        if userInfo[0].find_next('span').get_text():\n",
    "            user = userInfo[0].find_next('span').get_text()\n",
    "        else :\n",
    "            user = 'NaN'\n",
    "    except :\n",
    "        user = 'NaN'\n",
    "\n",
    "    info = [model,size,price,condition,user, location]\n",
    "\n",
    "    return info"
   ]
  },
  {
   "cell_type": "markdown",
   "id": "f44425bb-ac9d-4d17-840b-f57d9def4fac",
   "metadata": {},
   "source": [
    "<h4>Test sur une annonce random<h4>"
   ]
  },
  {
   "cell_type": "code",
   "execution_count": 3,
   "id": "f00be1c9-a5d7-40de-b0b7-2cf2d0e359bf",
   "metadata": {},
   "outputs": [],
   "source": [
    "link = \"https://www.ebay.fr/itm/286002433591?_nkw=iphone+15&itmmeta=01J6092S31NJSDV370JZ0XCH9Q&hash=item429712ce37:g:ihgAAOSwycpmqkDU&itmprp=enc%3AAQAJAAAAwHoV3kP08IDx%2BKZ9MfhVJKklYQAadhVuZs9svS6IqrL%2F6Dn2NPBqZJTi%2FhsEsKUTmBWcD9NnKGqDZCltQFoZc%2Fj%2Bqb7WR1p%2BlQbj6drxnWOPTx%2FrP2qHfpKZ%2BC4%2B1qp7g857Tu4lQFnJklPjhqLuYwBr7nnMlODsqOlln%2BNqkbQpFptGxW2egjpvoZv6ki%2FaSazrQMZuYh%2BUvKLLvC8euEbBVGR%2FBkisXKmqGXfbqldo7aqB1IkRl7DdUerkQYUpDw%3D%3D%7Ctkp%3ABk9SR8qRi4mwZA\"\n",
    "page = requests.get(link)\n",
    "page\n",
    "soup = bs(page.text,\"lxml\")"
   ]
  },
  {
   "cell_type": "code",
   "execution_count": 4,
   "id": "89a0b078-3c08-4bba-b9e0-be323efb48d4",
   "metadata": {},
   "outputs": [
    {
     "name": "stdout",
     "output_type": "stream",
     "text": [
      "['NaN', 'NaN', '380,00 €', 'Neuf', 'latha-465 (0)', 'NaN']\n"
     ]
    }
   ],
   "source": [
    "x = getInfo(link)\n",
    "print(x)"
   ]
  },
  {
   "cell_type": "markdown",
   "id": "5a2364c7-3e27-478a-80c2-b85265ab0f43",
   "metadata": {},
   "source": [
    "<h3>Sur toutes les annonces d'une seule page</h3>"
   ]
  },
  {
   "cell_type": "markdown",
   "id": "548da248-bb0e-4a75-869e-6b2da4feb16b",
   "metadata": {},
   "source": [
    "<h4>Répérage du nombre d'annonce par page</h4>"
   ]
  },
  {
   "cell_type": "code",
   "execution_count": 56,
   "id": "75e78f53-86c7-42f8-96e5-71e2c5b68613",
   "metadata": {},
   "outputs": [],
   "source": [
    "link2 = \"https://www.ebay.fr/sch/9355/i.html?_from=R40&_nkw=iphone+15&rt=nc&_ipg=60\"\n",
    "page = requests.get(link2)\n",
    "page\n",
    "soup = bs(page.text, 'lxml')"
   ]
  },
  {
   "cell_type": "code",
   "execution_count": 57,
   "id": "05d98b5a-2f9c-41ee-9bd2-93fb97ddac53",
   "metadata": {},
   "outputs": [],
   "source": [
    "def getNumberItems():\n",
    "    \n",
    "    items = soup.find_all(\"div\", class_='srp-controls__control srp-controls__count')\n",
    "    items2 = items[0].find_next('span', class_='BOLD').get_text()\n",
    "\n",
    "    convert = int(items2)\n",
    "\n",
    "    return convert"
   ]
  },
  {
   "cell_type": "code",
   "execution_count": 58,
   "id": "41083f04-b4ea-4bf1-b7b4-42c15111d7ed",
   "metadata": {},
   "outputs": [],
   "source": [
    "def getNumberItemsPerPage():\n",
    "\n",
    "    items = soup.find_all(\"div\", class_='srp-ipp')\n",
    "    items2 = items[0].find_next('span', class_='btn__cell').get_text()\n",
    "\n",
    "    convert = int(items2)\n",
    "\n",
    "    return convert"
   ]
  },
  {
   "cell_type": "code",
   "execution_count": 59,
   "id": "8522d908-c51b-48c3-9e89-a3a10130b1d8",
   "metadata": {},
   "outputs": [],
   "source": [
    "def getAllPages():\n",
    "\n",
    "    urls = []\n",
    "    actualPage = 1\n",
    "\n",
    "    number = getNumberItems() // getNumberItemsPerPage()\n",
    "    for i in range(number) :\n",
    "        i = f\"https://www.ebay.fr/sch/9355/i.html?_from=R40&_nkw=iphone+15&rt=nc&_pgn={actualPage}\"\n",
    "        actualPage += 1\n",
    "        urls.append(i)\n",
    "        \n",
    "    return urls"
   ]
  },
  {
   "cell_type": "code",
   "execution_count": 60,
   "id": "10e1a041-19d4-4ae4-9fc8-bcbe0990fe58",
   "metadata": {},
   "outputs": [
    {
     "name": "stdout",
     "output_type": "stream",
     "text": [
      "['https://www.ebay.fr/sch/9355/i.html?_from=R40&_nkw=iphone+15&rt=nc&_pgn=1', 'https://www.ebay.fr/sch/9355/i.html?_from=R40&_nkw=iphone+15&rt=nc&_pgn=2', 'https://www.ebay.fr/sch/9355/i.html?_from=R40&_nkw=iphone+15&rt=nc&_pgn=3', 'https://www.ebay.fr/sch/9355/i.html?_from=R40&_nkw=iphone+15&rt=nc&_pgn=4', 'https://www.ebay.fr/sch/9355/i.html?_from=R40&_nkw=iphone+15&rt=nc&_pgn=5', 'https://www.ebay.fr/sch/9355/i.html?_from=R40&_nkw=iphone+15&rt=nc&_pgn=6', 'https://www.ebay.fr/sch/9355/i.html?_from=R40&_nkw=iphone+15&rt=nc&_pgn=7', 'https://www.ebay.fr/sch/9355/i.html?_from=R40&_nkw=iphone+15&rt=nc&_pgn=8']\n"
     ]
    }
   ],
   "source": [
    "x = getAllPages()\n",
    "print(x)"
   ]
  },
  {
   "cell_type": "code",
   "execution_count": 61,
   "id": "f340360e-d573-4dd8-af74-5af6f328ac7f",
   "metadata": {},
   "outputs": [
    {
     "name": "stdout",
     "output_type": "stream",
     "text": [
      "72\n"
     ]
    }
   ],
   "source": [
    "listofAd = []\n",
    "\n",
    "def allAd(link2):\n",
    "    count = 0\n",
    "    div = soup.find_all('li', class_=\"s-item s-item__dsa-on-bottom s-item__pl-on-bottom\")\n",
    "    for i in div:\n",
    "        if i.find_next('div', class_='s-item__wrapper clearfix').find_next('div', class_='s-item__image-section').find_next('div', class_='s-item__image').find_next('a') :\n",
    "            \n",
    "        #listofAd.append(a['href'])\n",
    "            count += 1\n",
    "\n",
    "    print(count)\n",
    "\n",
    "allAd(link2)"
   ]
  },
  {
   "cell_type": "code",
   "execution_count": 63,
   "id": "5e0e739b-682d-4a73-8579-0f1df3a79b0a",
   "metadata": {},
   "outputs": [
    {
     "name": "stdout",
     "output_type": "stream",
     "text": [
      "72\n"
     ]
    }
   ],
   "source": [
    "listofAd = []\n",
    "\n",
    "def allAd(link2):\n",
    "    count = 0\n",
    "    div = soup.find_all('li', attrs = {'class' : \"s-item s-item__dsa-on-bottom s-item__pl-on-bottom\"})\n",
    "    for i in div:\n",
    "        #if i.find_next('div', class_='s-item__wrapper clearfix').find_next('div', class_='s-item__image-section').find_next('div', class_='s-item__image').find_next('a') :\n",
    "            \n",
    "        #listofAd.append(a['href'])\n",
    "            count += 1\n",
    "\n",
    "    print(count)\n",
    "\n",
    "allAd(link2)"
   ]
  },
  {
   "cell_type": "code",
   "execution_count": null,
   "id": "9182362f-241c-4430-b8fb-2ab87cde35e1",
   "metadata": {},
   "outputs": [],
   "source": []
  }
 ],
 "metadata": {
  "kernelspec": {
   "display_name": "Python 3 (ipykernel)",
   "language": "python",
   "name": "python3"
  },
  "language_info": {
   "codemirror_mode": {
    "name": "ipython",
    "version": 3
   },
   "file_extension": ".py",
   "mimetype": "text/x-python",
   "name": "python",
   "nbconvert_exporter": "python",
   "pygments_lexer": "ipython3",
   "version": "3.11.7"
  }
 },
 "nbformat": 4,
 "nbformat_minor": 5
}
