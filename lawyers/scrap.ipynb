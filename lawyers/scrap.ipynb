{
 "cells": [
  {
   "cell_type": "code",
   "execution_count": 1,
   "id": "ccf84abb-9769-4f41-9c6c-43b932fa1e13",
   "metadata": {},
   "outputs": [
    {
     "name": "stdout",
     "output_type": "stream",
     "text": [
      "10\n"
     ]
    }
   ],
   "source": [
    "test = 10\n",
    "print(test)"
   ]
  },
  {
   "cell_type": "code",
   "execution_count": 2,
   "id": "e63dbdc0-1d19-4b88-96a4-e750d32479b0",
   "metadata": {},
   "outputs": [],
   "source": [
    "import requests\n",
    "from bs4 import BeautifulSoup as bs\n",
    "import pandas as pd"
   ]
  },
  {
   "cell_type": "code",
   "execution_count": 12,
   "id": "c7c1d31d-646a-4b5a-830b-94a4626c980c",
   "metadata": {},
   "outputs": [
    {
     "data": {
      "text/plain": [
       "<Response [403]>"
      ]
     },
     "execution_count": 12,
     "metadata": {},
     "output_type": "execute_result"
    }
   ],
   "source": [
    "#page = 'https://www.welcometothejungle.com/fr/companies/les-coqs-en-pate/jobs/game-master_paris?q=4ba48bb7e2ca82745c71a84ae9ee96f7&o=c43ce218-9001-47c6-82f1-1d07be37668d'\n",
    "test = requests.get('https://www.leboncoin.fr/ad/consoles/2736367556')\n",
    "test"
   ]
  },
  {
   "cell_type": "code",
   "execution_count": 13,
   "id": "2e277761-0565-489b-8083-b52092ac8536",
   "metadata": {},
   "outputs": [
    {
     "data": {
      "text/plain": [
       "<html><head><title>leboncoin.fr</title><style>#cmsg{animation: A 1.5s;}@keyframes A{0%{opacity:0;}99%{opacity:0;}100%{opacity:1;}}</style></head><body style=\"margin:0\"><p id=\"cmsg\">Please enable JS and disable any ad blocker</p><script data-cfasync=\"false\">var dd={'rt':'c','cid':'AHrlqAAAAAMAkIPmhuyLHoMAAg2-4A==','hsh':'05B30BD9055986BD2EE8F5A199D973','t':'bv','s':2089,'e':'e45a215416d588d81c3ebfefa2610c4702bff0719873be013adf9c13ca6c25d2','host':'geo.captcha-delivery.com'}</script><script data-cfasync=\"false\" src=\"https://ct.captcha-delivery.com/c.js\"></script></body></html>"
      ]
     },
     "execution_count": 13,
     "metadata": {},
     "output_type": "execute_result"
    }
   ],
   "source": [
    "soup = bs(test.text,'lxml')\n",
    "soup"
   ]
  },
  {
   "cell_type": "code",
   "execution_count": 5,
   "id": "fd7a393a-cd4c-47e2-bc0d-753ad091a32f",
   "metadata": {},
   "outputs": [],
   "source": [
    "#div = soup.find_all('div', class_=\"mx-lg grid gap-lg py-xl border-b-sm border-b-neutral/dim-4 lg:mx-md !py-lg\")\n",
    "#print(div)\n",
    "#title = div[0].find_next(\"div\").find_next(\"h1\")\n",
    "#title\n",
    "#title = soup.find('h1', attrs = {'class' : \"text-headline-1-expanded u-break-word\", 'data-qa-id' : \"adview_title\"})\n",
    "#print(title)"
   ]
  },
  {
   "cell_type": "code",
   "execution_count": 6,
   "id": "1d180813-8254-4359-8f39-8c4d0c2a7e72",
   "metadata": {},
   "outputs": [
    {
     "name": "stdout",
     "output_type": "stream",
     "text": [
      "None\n"
     ]
    }
   ],
   "source": [
    "title = soup.find('h2', class_=\"sc-fulCBj bCgioU  wui-text\")\n",
    "print(title)                "
   ]
  },
  {
   "cell_type": "code",
   "execution_count": null,
   "id": "e3556f17-f55d-4fc2-8af6-3d7241c92cf3",
   "metadata": {},
   "outputs": [],
   "source": []
  }
 ],
 "metadata": {
  "kernelspec": {
   "display_name": "Python 3 (ipykernel)",
   "language": "python",
   "name": "python3"
  },
  "language_info": {
   "codemirror_mode": {
    "name": "ipython",
    "version": 3
   },
   "file_extension": ".py",
   "mimetype": "text/x-python",
   "name": "python",
   "nbconvert_exporter": "python",
   "pygments_lexer": "ipython3",
   "version": "3.11.7"
  }
 },
 "nbformat": 4,
 "nbformat_minor": 5
}
