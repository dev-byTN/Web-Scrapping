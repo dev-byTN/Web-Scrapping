{
 "cells": [
  {
   "cell_type": "code",
   "execution_count": 1,
   "id": "8af7dd42-35f0-4eeb-8e6b-8c23c441faa0",
   "metadata": {},
   "outputs": [],
   "source": [
    "import requests\n",
    "from bs4 import BeautifulSoup as bs\n",
    "import pandas as pd\n",
    "import numpy as np"
   ]
  },
  {
   "cell_type": "markdown",
   "id": "5054779e-6617-413c-b125-765997d61ca5",
   "metadata": {},
   "source": [
    "<h3>Récupération des urls de toutes les pages</h3>"
   ]
  },
  {
   "cell_type": "code",
   "execution_count": 2,
   "id": "e2542546-63e5-497d-baf5-02461856d73c",
   "metadata": {
    "jp-MarkdownHeadingCollapsed": true
   },
   "outputs": [],
   "source": [
    "def getAllPages():\n",
    "\n",
    "    urls = []\n",
    "    actualPage = 1\n",
    "\n",
    "    for i in range(163) :\n",
    "        i = f\"https://www.barreaudenice.com/annuaire/avocats/?fwp_paged={actualPage}\"\n",
    "        actualPage += 1\n",
    "        urls.append(i)\n",
    "        \n",
    "    return urls"
   ]
  },
  {
   "cell_type": "markdown",
   "id": "fd9ed9ab-2cda-4f44-ba8e-b829b6ecafbb",
   "metadata": {},
   "source": [
    "<h3>Récupération de toutes les infos concernants les avocats sur 1 seule page</h3>"
   ]
  },
  {
   "cell_type": "code",
   "execution_count": 3,
   "id": "9b7b89e3-24af-4470-8a86-34a710bfadad",
   "metadata": {},
   "outputs": [],
   "source": [
    "def getInfo(url) :\n",
    "\n",
    "    lawyer = requests.get(url)\n",
    "    soup = bs(lawyer.text,\"lxml\")\n",
    "    list_lawyer = []\n",
    "    \n",
    "    name = soup.find_all('div', class_=\"callout secondary annuaire-single\")\n",
    "    for i in name:\n",
    "    \n",
    "        try:\n",
    "            if i.find('span', class_=\"telephone\") :\n",
    "                phone_number_all = i.find('span', class_=\"telephone\").get_text().strip()\n",
    "            else :\n",
    "                phone_number_all = 'NaN'\n",
    "        except:\n",
    "                phone_number_all = 'NaN'\n",
    "    \n",
    "        try:\n",
    "            if i.find('span', class_=\"fax\") :\n",
    "                fax_all = i.find('span', class_=\"fax\").get_text().strip()\n",
    "            else :\n",
    "                fax_all = 'NaN'\n",
    "        except:\n",
    "                fax_all = 'NaN'\n",
    "            \n",
    "        try:\n",
    "            if i.find('span', class_=\"email\") :\n",
    "                email_all = i.find('span', class_=\"email\").get_text().strip()\n",
    "            else :\n",
    "                email_all = 'NaN'\n",
    "        except:\n",
    "                email_all = 'NaN'\n",
    "\n",
    "        try:\n",
    "            if i.find('span', class_=\"num-case\") :\n",
    "                num_case_all = i.find('span', class_=\"num-case\").get_text().strip()\n",
    "            else :\n",
    "                num_case_all = 'NaN'\n",
    "        except:\n",
    "                num_case_all = 'NaN'\n",
    "\n",
    "        try:\n",
    "            if i.find('span', class_=\"adresse\") :\n",
    "                location_all = i.find('span', class_=\"adresse\").get_text().strip()\n",
    "            else :\n",
    "                location_all = 'NaN'\n",
    "        except:\n",
    "                location_all = 'NaN'\n",
    "\n",
    "        try:\n",
    "            if i.find('h3', class_=\"nom-prenom\") :\n",
    "                name_all = i.find('h3', class_=\"nom-prenom\").get_text().strip()\n",
    "            else :\n",
    "                name_all = 'NaN'\n",
    "        except:\n",
    "                name_all = 'NaN'\n",
    "\n",
    "        try:\n",
    "            if i.find('span', class_=\"date\") :\n",
    "                date_all = i.find('span', class_=\"date\").get_text().strip()\n",
    "            else :\n",
    "                date_all = 'NaN'\n",
    "        except:\n",
    "                date_all = 'NaN'\n",
    "  \n",
    "        info = [name_all, date_all, location_all, num_case_all, email_all, phone_number_all, fax_all]\n",
    "        list_lawyer.append(info)\n",
    "\n",
    "    return list_lawyer\n",
    "       "
   ]
  },
  {
   "cell_type": "markdown",
   "id": "e85196a3-248a-40b8-8e39-92752011df5c",
   "metadata": {},
   "source": [
    "<h3>Répeter l'étape précendente sur toutes les pages du site</h3>"
   ]
  },
  {
   "cell_type": "code",
   "execution_count": 4,
   "id": "8d9d4db4-7d2d-46d7-bda8-582be55ab046",
   "metadata": {
    "scrolled": true
   },
   "outputs": [],
   "source": [
    "def getAllLawyer():\n",
    "    \n",
    "    page = getAllPages()\n",
    "    allInfo = []\n",
    "    \n",
    "    for i in page:\n",
    "            list = getInfo(i)\n",
    "            allInfo.extend(list)\n",
    "\n",
    "    return allInfo\n"
   ]
  },
  {
   "cell_type": "markdown",
   "id": "37366ecf-8a24-406d-9460-e0f94756bae0",
   "metadata": {},
   "source": [
    "<h3>Transformer toutes la data en file CSV</h3>"
   ]
  },
  {
   "cell_type": "code",
   "execution_count": null,
   "id": "6af17a8e-3607-4e2f-be73-c29f42c2df90",
   "metadata": {},
   "outputs": [],
   "source": [
    "data = getAllLawyer()\n",
    "\n",
    "dt = pd.DataFrame(data, columns = ['name', 'date', 'location', 'num-case', 'email', 'phone-number', 'fax'])\n",
    "#dt.to_csv(\"lawyerData(dirty).csv\")\n",
    "\n",
    "dt"
   ]
  },
  {
   "cell_type": "markdown",
   "id": "090934c3-7352-4bc7-a928-ab7d3f2953d8",
   "metadata": {},
   "source": [
    "<h3>Nettoyage</h3>"
   ]
  },
  {
   "cell_type": "code",
   "execution_count": null,
   "id": "ad5b4190-1dc4-436a-a663-4d54153a2ac0",
   "metadata": {},
   "outputs": [],
   "source": [
    "backup = dt"
   ]
  },
  {
   "cell_type": "code",
   "execution_count": null,
   "id": "2f6d4ae4-e424-4db8-89cc-62b993318f53",
   "metadata": {},
   "outputs": [],
   "source": [
    "dt.isnull().sum()"
   ]
  },
  {
   "cell_type": "code",
   "execution_count": null,
   "id": "f4641612-7f52-45c2-b065-997633663034",
   "metadata": {},
   "outputs": [],
   "source": [
    "#dt.dt['fax'] == 'NaN'"
   ]
  },
  {
   "cell_type": "code",
   "execution_count": null,
   "id": "42cc0235-472d-4596-a2ee-e168146d3b75",
   "metadata": {},
   "outputs": [],
   "source": [
    "dt"
   ]
  },
  {
   "cell_type": "code",
   "execution_count": null,
   "id": "e149806d-be63-4409-83aa-a94ebb668210",
   "metadata": {},
   "outputs": [],
   "source": [
    "dt['date'] = pd.to_datetime(dt['date'])"
   ]
  },
  {
   "cell_type": "code",
   "execution_count": null,
   "id": "3d34dfbc-e4bc-405e-aa10-0958d870627a",
   "metadata": {},
   "outputs": [],
   "source": [
    "dt.dtypes"
   ]
  },
  {
   "cell_type": "code",
   "execution_count": null,
   "id": "eb56c8bb-8789-4979-8e40-db50c856e6d1",
   "metadata": {
    "scrolled": true
   },
   "outputs": [],
   "source": [
    "dt.groupby(['fax']).describe()"
   ]
  },
  {
   "cell_type": "code",
   "execution_count": null,
   "id": "c924584a-0855-4a5a-9fc5-725ea728a519",
   "metadata": {},
   "outputs": [],
   "source": [
    "dt['fax'] = dt['fax'].str.replace('F . ','')\n",
    "dt['fax'] = dt['fax'].str.replace(\"+33) \", \"\")\n",
    "dt['fax'] = dt['fax'].str.replace(\"+33 \", \"0\")\n",
    "dt['fax'] = dt['fax'].str.replace(\".\", \" \")\n",
    "dt['fax'] = dt['fax'].str.replace(\"(\", \"\")\n",
    "dt['fax'] = dt['fax'].str.replace(\"109\", \"09\")\n",
    "dt['fax'] = dt['fax'].str.replace(\"NaN\", \"0\")"
   ]
  },
  {
   "cell_type": "code",
   "execution_count": null,
   "id": "9a89ee73-14ad-4879-96d3-0b7bb169ba0c",
   "metadata": {},
   "outputs": [],
   "source": [
    "dt.groupby(\"phone-number\").describe()"
   ]
  },
  {
   "cell_type": "code",
   "execution_count": null,
   "id": "dc746633-a1b8-44eb-9042-869e8f76af17",
   "metadata": {},
   "outputs": [],
   "source": [
    "dt['phone-number'] = dt['phone-number'].str.replace('T . ','')\n",
    "dt['phone-number'] = dt['phone-number'].str.replace('.',' ')\n",
    "dt['phone-number'] = dt['phone-number'].str.replace('T . ','')\n",
    "dt['phone-number'] = dt['phone-number'].str.replace('+33(0)', '0')\n",
    "dt['phone-number'] = dt['phone-number'].str.replace('(+33)', '')\n",
    "dt['phone-number'] = dt['phone-number'].str.replace('+33', '0')"
   ]
  },
  {
   "cell_type": "code",
   "execution_count": null,
   "id": "ab7c11d8-01ed-4e04-a04a-9e05f60f5912",
   "metadata": {},
   "outputs": [],
   "source": [
    "dt.drop(dt[ dt['phone-number'].str.contains('--', na=False) ].index, inplace=True)"
   ]
  },
  {
   "cell_type": "code",
   "execution_count": null,
   "id": "019dd064-112c-4d1e-9eb2-48aeba3ef9e4",
   "metadata": {
    "scrolled": true
   },
   "outputs": [],
   "source": [
    "dt"
   ]
  },
  {
   "cell_type": "code",
   "execution_count": null,
   "id": "e6fb8ea2-57ac-48c2-baee-00e85084fe7b",
   "metadata": {},
   "outputs": [],
   "source": [
    "dt['num-case'] = dt['num-case'].str.replace('N° de Case : ', \"\")\n",
    "dt['num-case'] = dt['num-case'].str.replace('NaN', \"0\")"
   ]
  },
  {
   "cell_type": "code",
   "execution_count": null,
   "id": "856de1d3-5e57-488a-a063-6b21b4bb89c6",
   "metadata": {},
   "outputs": [],
   "source": [
    "dt.groupby(\"num-case\").describe()"
   ]
  },
  {
   "cell_type": "code",
   "execution_count": null,
   "id": "ac00dbad-3292-41dd-be1e-54d635187041",
   "metadata": {},
   "outputs": [],
   "source": [
    "dt"
   ]
  },
  {
   "cell_type": "code",
   "execution_count": null,
   "id": "13193661-bd0d-407d-abc7-2827b864b952",
   "metadata": {},
   "outputs": [],
   "source": [
    "dt['num-case'] = pd.to_numeric(dt['num-case'], errors='coerce').astype(\"Int64\")"
   ]
  },
  {
   "cell_type": "code",
   "execution_count": null,
   "id": "05719dd6-f60b-4fbf-99df-aeaab4aa246c",
   "metadata": {},
   "outputs": [],
   "source": [
    "dt.dtypes"
   ]
  },
  {
   "cell_type": "code",
   "execution_count": null,
   "id": "8ef087e7-0743-426d-b0ce-fb889aa0139f",
   "metadata": {},
   "outputs": [],
   "source": [
    "dt.groupby('email').describe()"
   ]
  },
  {
   "cell_type": "code",
   "execution_count": null,
   "id": "fac70bab-d0f9-4a53-a85f-2fb7a70d9be8",
   "metadata": {},
   "outputs": [],
   "source": [
    "dt['email'] = dt[\"email\"].str.replace('\\n ', '')\n",
    "dt['email'] = dt['email'].str.replace(\"Email : \", \"\")"
   ]
  },
  {
   "cell_type": "code",
   "execution_count": null,
   "id": "70c2777b-6887-4be0-ab06-8b91298a61e8",
   "metadata": {},
   "outputs": [],
   "source": [
    "dt"
   ]
  },
  {
   "cell_type": "code",
   "execution_count": null,
   "id": "e8798fbe-b6b2-42e5-935c-cdd37aa2255e",
   "metadata": {},
   "outputs": [],
   "source": [
    "dt.groupby(\"location\").describe()"
   ]
  },
  {
   "cell_type": "code",
   "execution_count": null,
   "id": "03faeb3f-ea3a-4771-a907-7e76800e9a6b",
   "metadata": {},
   "outputs": [],
   "source": [
    "dt[\"location\"] = dt[\"location\"].str.replace('\\r\\n', \" \")\n",
    "dt[\"location\"] = dt[\"location\"].str.replace('\\r', \" \")\n",
    "dt[\"location\"] = dt[\"location\"].str.replace('\\n', \" \")"
   ]
  },
  {
   "cell_type": "code",
   "execution_count": null,
   "id": "43f35a04-0de0-4d85-a7af-0fdf30d52cb3",
   "metadata": {},
   "outputs": [],
   "source": [
    "dt.insert(3, \"zip-code\", 0)"
   ]
  },
  {
   "cell_type": "code",
   "execution_count": null,
   "id": "f4b112f7-9d52-4923-80cd-4d39cd9add09",
   "metadata": {},
   "outputs": [],
   "source": [
    "dt.insert(4,'city', \"Nice\")"
   ]
  },
  {
   "cell_type": "code",
   "execution_count": null,
   "id": "944a0303-f83b-4e05-a2e4-7f115d20cfba",
   "metadata": {},
   "outputs": [],
   "source": [
    "dt['zip-code'] = dt['location'].str.extract(r'\\b(06\\d{3})\\b') # if he was something starting with 06 ...\n",
    "dt"
   ]
  },
  {
   "cell_type": "code",
   "execution_count": null,
   "id": "25063140-2ffd-4733-9e42-93764996c7ee",
   "metadata": {},
   "outputs": [],
   "source": [
    "dt['zip-code'] = pd.to_numeric(dt['zip-code'], errors='coerce').astype(\"Int64\")"
   ]
  },
  {
   "cell_type": "code",
   "execution_count": null,
   "id": "cf85410a-3b24-42df-b93c-77d6f0e0cb55",
   "metadata": {},
   "outputs": [],
   "source": [
    "dt"
   ]
  },
  {
   "cell_type": "code",
   "execution_count": null,
   "id": "b721e731-6d83-420e-9467-69a20f1c1802",
   "metadata": {},
   "outputs": [],
   "source": [
    "dt.dtypes"
   ]
  },
  {
   "cell_type": "code",
   "execution_count": null,
   "id": "eb782228-fd6f-49d4-84a3-d41be68591fa",
   "metadata": {},
   "outputs": [],
   "source": []
  }
 ],
 "metadata": {
  "kernelspec": {
   "display_name": "Python 3 (ipykernel)",
   "language": "python",
   "name": "python3"
  },
  "language_info": {
   "codemirror_mode": {
    "name": "ipython",
    "version": 3
   },
   "file_extension": ".py",
   "mimetype": "text/x-python",
   "name": "python",
   "nbconvert_exporter": "python",
   "pygments_lexer": "ipython3",
   "version": "3.11.5"
  }
 },
 "nbformat": 4,
 "nbformat_minor": 5
}
